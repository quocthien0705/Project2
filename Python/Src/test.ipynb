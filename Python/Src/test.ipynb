{
 "cells": [
  {
   "cell_type": "code",
   "execution_count": 1,
   "metadata": {},
   "outputs": [
    {
     "name": "stdout",
     "output_type": "stream",
     "text": [
      "Chiều cao của thanh taskbar là 48.\n"
     ]
    }
   ],
   "source": [
    "from win32api import GetMonitorInfo, MonitorFromPoint\n",
    "\n",
    "monitor_info = GetMonitorInfo(MonitorFromPoint((0,0)))\n",
    "monitor_area = monitor_info.get(\"Monitor\")\n",
    "work_area = monitor_info.get(\"Work\")\n",
    "\n",
    "taskbar_height = monitor_area[3] - work_area[3]\n",
    "print(\"Chiều cao của thanh taskbar là {}.\".format(taskbar_height))"
   ]
  }
 ],
 "metadata": {
  "kernelspec": {
   "display_name": "Python 3",
   "language": "python",
   "name": "python3"
  },
  "language_info": {
   "codemirror_mode": {
    "name": "ipython",
    "version": 3
   },
   "file_extension": ".py",
   "mimetype": "text/x-python",
   "name": "python",
   "nbconvert_exporter": "python",
   "pygments_lexer": "ipython3",
   "version": "3.11.5"
  }
 },
 "nbformat": 4,
 "nbformat_minor": 2
}
