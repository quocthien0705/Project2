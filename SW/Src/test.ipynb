{
 "cells": [
  {
   "cell_type": "code",
   "execution_count": 1,
   "metadata": {},
   "outputs": [
    {
     "name": "stdout",
     "output_type": "stream",
     "text": [
      "Chiều cao của thanh taskbar là 48.\n"
     ]
    }
   ],
   "source": [
    "from win32api import GetMonitorInfo, MonitorFromPoint\n",
    "\n",
    "monitor_info = GetMonitorInfo(MonitorFromPoint((0,0)))\n",
    "monitor_area = monitor_info.get(\"Monitor\")\n",
    "work_area = monitor_info.get(\"Work\")\n",
    "\n",
    "taskbar_height = monitor_area[3] - work_area[3]\n",
    "print(\"Chiều cao của thanh taskbar là {}.\".format(taskbar_height))"
   ]
  },
  {
   "cell_type": "code",
   "execution_count": 3,
   "metadata": {},
   "outputs": [
    {
     "name": "stdout",
     "output_type": "stream",
     "text": [
      "{'fullname': 'Sandra Evans', 'dob': '1973-01-09', 'sex': 'Female', 'height': 168, 'weight': 79, 'phone': '+1-895-467-1755x572', 'insur_number': 273169, 'address': '711 James View, Heidiside, AL 33757', 'note': ''}\n",
      "{'fullname': 'Stephen White', 'dob': '1970-02-01', 'sex': 'Female', 'height': 200, 'weight': 62, 'phone': '(419)835-0088x7572', 'insur_number': 174514, 'address': '32882 White Mountain, Acevedostad, CO 76165', 'note': ''}\n",
      "{'fullname': 'Fred Rivers', 'dob': '1978-08-22', 'sex': 'Male', 'height': 153, 'weight': 90, 'phone': '925.323.7389x2524', 'insur_number': 112204, 'address': '48328 Silva Villages, New Jonathanshire, KY 29936', 'note': ''}\n",
      "{'fullname': 'Sharon Williamson', 'dob': '2005-10-12', 'sex': 'Female', 'height': 175, 'weight': 78, 'phone': '001-500-618-9813x52232', 'insur_number': 513085, 'address': '4118 Moore Knoll Suite 369, Sydneyberg, PW 72596', 'note': ''}\n",
      "{'fullname': 'Dr. Gabriel Moore PhD', 'dob': '1978-12-06', 'sex': 'Male', 'height': 165, 'weight': 78, 'phone': '(508)335-2441', 'insur_number': 830194, 'address': '66409 Eric Fall, Bryantside, KS 32222', 'note': ''}\n",
      "{'fullname': 'Kristine Meyers', 'dob': '1954-10-18', 'sex': 'Female', 'height': 151, 'weight': 58, 'phone': '260-688-6718', 'insur_number': 651520, 'address': '71469 Brandon Fields Apt. 882, North Scott, TN 08677', 'note': ''}\n",
      "{'fullname': 'Gina Dickerson', 'dob': '1966-03-07', 'sex': 'Female', 'height': 178, 'weight': 52, 'phone': '001-766-980-1718x04920', 'insur_number': 935094, 'address': '029 Gray Square Suite 269, East Dakota, MD 17317', 'note': ''}\n",
      "{'fullname': 'Jill Rodriguez', 'dob': '1999-02-10', 'sex': 'Male', 'height': 181, 'weight': 78, 'phone': '739-529-5671', 'insur_number': 518538, 'address': '02563 Angela Cove, Lake Kelly, UT 05738', 'note': ''}\n",
      "{'fullname': 'Andrea Henry', 'dob': '1960-04-03', 'sex': 'Female', 'height': 183, 'weight': 71, 'phone': '314.813.8542', 'insur_number': 590033, 'address': '64406 Anderson Mount Suite 158, Thompsontown, MN 48830', 'note': ''}\n",
      "{'fullname': 'Anthony Stewart', 'dob': '1992-08-05', 'sex': 'Male', 'height': 155, 'weight': 58, 'phone': '895.704.1482', 'insur_number': 553573, 'address': '1619 James Parkways Suite 671, Lake Richardland, ME 97972', 'note': ''}\n",
      "{'fullname': 'Jennifer Taylor', 'dob': '1962-09-18', 'sex': 'Male', 'height': 194, 'weight': 95, 'phone': '(500)204-2191', 'insur_number': 489663, 'address': '7342 Kevin Run Apt. 597, Kyleborough, GU 56422', 'note': ''}\n",
      "{'fullname': 'David Schneider', 'dob': '1997-12-04', 'sex': 'Male', 'height': 194, 'weight': 59, 'phone': '6966106701', 'insur_number': 422083, 'address': '67386 Rivera Courts, New Kevin, MD 18265', 'note': ''}\n",
      "{'fullname': 'Stephanie Crane', 'dob': '1955-02-15', 'sex': 'Male', 'height': 177, 'weight': 72, 'phone': '620-765-8375x5206', 'insur_number': 275352, 'address': '857 Morgan Square Suite 677, Bowmanville, VA 52478', 'note': ''}\n",
      "{'fullname': 'Mitchell Bird', 'dob': '1988-11-11', 'sex': 'Female', 'height': 178, 'weight': 95, 'phone': '753-306-1238x49417', 'insur_number': 770069, 'address': '9931 Christine Fall, Kimberlyborough, WY 05777', 'note': ''}\n",
      "{'fullname': 'Elizabeth Huerta', 'dob': '1996-09-30', 'sex': 'Female', 'height': 157, 'weight': 57, 'phone': '(205)371-3685x74812', 'insur_number': 584736, 'address': '16624 Margaret Burg Apt. 313, Burnshaven, VT 96051', 'note': ''}\n",
      "{'fullname': 'Wanda Wilkins', 'dob': '1980-01-06', 'sex': 'Female', 'height': 164, 'weight': 89, 'phone': '(893)269-7760', 'insur_number': 623219, 'address': '5246 Claudia Rest, Jonesstad, ME 24561', 'note': ''}\n",
      "{'fullname': 'Christine Wolfe', 'dob': '1964-09-18', 'sex': 'Female', 'height': 153, 'weight': 61, 'phone': '001-889-229-6809x98528', 'insur_number': 547710, 'address': '18397 Brianna Ridge, Williamsville, CT 81779', 'note': ''}\n",
      "{'fullname': 'Steven Crawford', 'dob': '1969-01-08', 'sex': 'Female', 'height': 200, 'weight': 81, 'phone': '4876084561', 'insur_number': 796977, 'address': '5972 Warren Square Apt. 400, Jacksonmouth, LA 57385', 'note': ''}\n",
      "{'fullname': 'Elizabeth Williams', 'dob': '1995-07-22', 'sex': 'Male', 'height': 178, 'weight': 67, 'phone': '001-834-459-4620x0576', 'insur_number': 305993, 'address': '00123 Mcintyre Station, New Amberburgh, MP 17467', 'note': ''}\n",
      "{'fullname': 'Pamela Kim', 'dob': '1977-10-15', 'sex': 'Male', 'height': 193, 'weight': 69, 'phone': '001-373-799-2467x2209', 'insur_number': 959257, 'address': 'Unit 9231 Box 9794, DPO AP 71771', 'note': ''}\n",
      "{'fullname': 'Paul Sloan', 'dob': '1991-07-12', 'sex': 'Female', 'height': 197, 'weight': 90, 'phone': '(474)998-9769x3213', 'insur_number': 244323, 'address': '4148 Colleen Pike Suite 462, South Christopher, IN 27403', 'note': ''}\n",
      "{'fullname': 'Kyle Harris', 'dob': '1985-04-27', 'sex': 'Male', 'height': 182, 'weight': 56, 'phone': '(656)861-9794', 'insur_number': 434187, 'address': '7679 Arnold Corners, East Andrewview, VI 10684', 'note': ''}\n",
      "{'fullname': 'Katherine Patel', 'dob': '1983-05-29', 'sex': 'Male', 'height': 162, 'weight': 54, 'phone': '5939267377', 'insur_number': 529331, 'address': '8038 Janice Dale, Montesfurt, DE 84346', 'note': ''}\n",
      "{'fullname': 'Alexander Smith', 'dob': '1985-05-10', 'sex': 'Male', 'height': 186, 'weight': 68, 'phone': '(992)483-5730x45243', 'insur_number': 258147, 'address': '19769 Mcneil Divide, Kathyland, ID 60334', 'note': ''}\n",
      "{'fullname': 'Mindy Gross', 'dob': '1956-02-17', 'sex': 'Female', 'height': 184, 'weight': 56, 'phone': '001-626-222-7594', 'insur_number': 124750, 'address': '419 Boone Bypass, Peterville, NC 09560', 'note': ''}\n",
      "{'fullname': 'Ruben Fisher', 'dob': '1984-04-27', 'sex': 'Female', 'height': 198, 'weight': 51, 'phone': '(314)264-1007', 'insur_number': 421729, 'address': '4506 Bautista Trace Apt. 424, New Chrismouth, GA 29195', 'note': ''}\n",
      "{'fullname': 'Kristin Kerr DDS', 'dob': '1992-06-06', 'sex': 'Male', 'height': 193, 'weight': 73, 'phone': '(527)210-4618', 'insur_number': 408021, 'address': 'Unit 2464 Box 0741, DPO AP 76767', 'note': ''}\n",
      "{'fullname': 'Jacqueline Mason', 'dob': '1994-01-12', 'sex': 'Female', 'height': 195, 'weight': 83, 'phone': '001-553-448-4091', 'insur_number': 178397, 'address': '1834 Robinson Radial Apt. 715, Smithport, MT 03580', 'note': ''}\n",
      "{'fullname': 'Gregory Lawson', 'dob': '1958-11-10', 'sex': 'Male', 'height': 156, 'weight': 61, 'phone': '(353)981-2789x7618', 'insur_number': 166562, 'address': '6722 Gilmore Road Suite 849, Lake Joshuaton, AR 33003', 'note': ''}\n",
      "{'fullname': 'Andrea Peterson', 'dob': '2000-07-31', 'sex': 'Male', 'height': 185, 'weight': 63, 'phone': '+1-608-642-6081x1351', 'insur_number': 286214, 'address': '2356 Miller Mission Suite 005, Brendafort, LA 01827', 'note': ''}\n"
     ]
    }
   ],
   "source": [
    "from faker import Faker\n",
    "from random import randint\n",
    "\n",
    "# Create a Faker instance for Vietnam and another one for the US\n",
    "fake_vn = Faker('vi_VN')\n",
    "fake_us = Faker('en_US')\n",
    "\n",
    "# Generate fake data\n",
    "data_set = []\n",
    "for _ in range(30):  # 15 Vietnamese names\n",
    "    data = {\n",
    "        \"fullname\": fake_vn.name(),\n",
    "        \"dob\": fake_vn.date_of_birth(minimum_age=18, maximum_age=70).isoformat(),\n",
    "        \"sex\": fake_vn.random_element(elements=(\"Male\", \"Female\")),\n",
    "        \"height\": randint(150, 200),  # Random height in cm\n",
    "        \"weight\": randint(50, 100),  # Random weight in kg\n",
    "        \"phone\": fake_vn.phone_number(),\n",
    "        \"insur_number\": fake_vn.random_number(digits=6, fix_len=True),\n",
    "        \"address\": fake_vn.address().replace(\"\\n\", \", \"),\n",
    "        \"note\": \"\"  # Note is empty\n",
    "    }\n",
    "    data_set.append(data)\n",
    "\n",
    "# for _ in range(30):  # 15 US names\n",
    "#     data = {\n",
    "#         \"fullname\": fake_us.name(),\n",
    "#         \"dob\": fake_us.date_of_birth(minimum_age=18, maximum_age=70).isoformat(),\n",
    "#         \"sex\": fake_us.random_element(elements=(\"Male\", \"Female\")),\n",
    "#         \"height\": randint(160, 200),  # Random height in cm\n",
    "#         \"weight\": randint(60, 110),  # Random weight in kg\n",
    "#         \"phone\": fake_us.phone_number(),\n",
    "#         \"insur_number\": fake_us.random_number(digits=6, fix_len=True),\n",
    "#         \"address\": fake_us.address().replace(\"\\n\", \", \"),\n",
    "#         \"note\": \"\"  # Note is empty\n",
    "#     }\n",
    "#     data_set.append(data)\n",
    "\n",
    "# Print the data set\n",
    "for data in data_set:\n",
    "    print(data)\n"
   ]
  },
  {
   "cell_type": "code",
   "execution_count": 1,
   "metadata": {},
   "outputs": [
    {
     "name": "stdout",
     "output_type": "stream",
     "text": [
      "['data_ecg_phamhuynhquocthien_20231118_221659', 'data_ecg_phamhuynhquocthien_20231118_222723', 'data_ecg_phamhuynhquocthien_20231118_223717', 'data_ecg_phamhuynhquocthien_20231118_224030']\n"
     ]
    }
   ],
   "source": [
    "from support_function import *\n",
    "print(get_tables('Pham Huynh Quoc Thien'))"
   ]
  }
 ],
 "metadata": {
  "kernelspec": {
   "display_name": "Python 3",
   "language": "python",
   "name": "python3"
  },
  "language_info": {
   "codemirror_mode": {
    "name": "ipython",
    "version": 3
   },
   "file_extension": ".py",
   "mimetype": "text/x-python",
   "name": "python",
   "nbconvert_exporter": "python",
   "pygments_lexer": "ipython3",
   "version": "3.11.5"
  }
 },
 "nbformat": 4,
 "nbformat_minor": 2
}
