{
 "cells": [
  {
   "cell_type": "code",
   "execution_count": 1,
   "metadata": {},
   "outputs": [
    {
     "name": "stdout",
     "output_type": "stream",
     "text": [
      "Chiều cao của thanh taskbar là 48.\n"
     ]
    }
   ],
   "source": [
    "from win32api import GetMonitorInfo, MonitorFromPoint\n",
    "\n",
    "monitor_info = GetMonitorInfo(MonitorFromPoint((0,0)))\n",
    "monitor_area = monitor_info.get(\"Monitor\")\n",
    "work_area = monitor_info.get(\"Work\")\n",
    "\n",
    "taskbar_height = monitor_area[3] - work_area[3]\n",
    "print(\"Chiều cao của thanh taskbar là {}.\".format(taskbar_height))"
   ]
  },
  {
   "cell_type": "code",
   "execution_count": 2,
   "metadata": {},
   "outputs": [
    {
     "name": "stdout",
     "output_type": "stream",
     "text": [
      "{'fullname': 'James Pugh', 'dob': '1958-09-07', 'sex': 'Male', 'height': 191, 'weight': 51, 'phone': '653.474.7599x3531', 'insur_number': 899704, 'address': '0842 Houston Lane, New Andrea, MH 57620', 'note': ''}\n",
      "{'fullname': 'Tyler Gibson', 'dob': '1984-10-02', 'sex': 'Female', 'height': 166, 'weight': 54, 'phone': '+1-821-954-0779', 'insur_number': 186059, 'address': 'USNS Eaton, FPO AA 73743', 'note': ''}\n",
      "{'fullname': 'Tyrone Fitzpatrick', 'dob': '1986-05-03', 'sex': 'Female', 'height': 161, 'weight': 66, 'phone': '(473)691-4242', 'insur_number': 196112, 'address': '35292 Freeman Vista, Janetstad, MI 09202', 'note': ''}\n",
      "{'fullname': 'Tony Clark', 'dob': '1998-07-29', 'sex': 'Male', 'height': 180, 'weight': 84, 'phone': '(929)696-8407x145', 'insur_number': 829424, 'address': 'Unit 7786 Box 4952, DPO AA 69374', 'note': ''}\n",
      "{'fullname': 'Michael Watson', 'dob': '1994-07-07', 'sex': 'Male', 'height': 152, 'weight': 94, 'phone': '(848)293-6175x80858', 'insur_number': 586156, 'address': '396 Gibson Common Apt. 644, South Tamara, VT 74002', 'note': ''}\n",
      "{'fullname': 'Kenneth Ramos', 'dob': '1965-05-09', 'sex': 'Female', 'height': 180, 'weight': 59, 'phone': '4742878743', 'insur_number': 616542, 'address': 'USNV Baker, FPO AE 95923', 'note': ''}\n",
      "{'fullname': 'Thomas Saunders', 'dob': '1979-02-28', 'sex': 'Female', 'height': 159, 'weight': 74, 'phone': '253-263-8298', 'insur_number': 711070, 'address': '849 Melanie Inlet, Victoriachester, KY 05701', 'note': ''}\n",
      "{'fullname': 'Carl Smith', 'dob': '1957-10-12', 'sex': 'Female', 'height': 187, 'weight': 63, 'phone': '+1-855-593-6305x06873', 'insur_number': 863592, 'address': '35100 Murray Route Suite 875, Lake Jasmine, VT 86419', 'note': ''}\n",
      "{'fullname': 'David Hall', 'dob': '1963-05-16', 'sex': 'Male', 'height': 198, 'weight': 51, 'phone': '001-495-873-7540x05276', 'insur_number': 701504, 'address': '415 Katherine Prairie Apt. 460, Daleberg, FM 77411', 'note': ''}\n",
      "{'fullname': 'Dylan Goodwin', 'dob': '1969-11-07', 'sex': 'Female', 'height': 183, 'weight': 92, 'phone': '(322)624-7774x880', 'insur_number': 906863, 'address': '39117 Keith Vista Apt. 615, Ryanview, MT 16590', 'note': ''}\n",
      "{'fullname': 'Brandon Wilkerson', 'dob': '1992-01-20', 'sex': 'Female', 'height': 158, 'weight': 100, 'phone': '6913374155', 'insur_number': 354443, 'address': '5794 Spencer Harbor, New Kristenmouth, IA 90531', 'note': ''}\n",
      "{'fullname': 'Richard Khan', 'dob': '1975-12-24', 'sex': 'Male', 'height': 185, 'weight': 74, 'phone': '+1-748-324-1981x2933', 'insur_number': 921992, 'address': '8467 Ariana Unions, Jamesmouth, TN 21550', 'note': ''}\n",
      "{'fullname': 'James Simpson', 'dob': '1978-03-12', 'sex': 'Female', 'height': 199, 'weight': 69, 'phone': '+1-447-347-0093x94176', 'insur_number': 774604, 'address': 'Unit 5826 Box 1019, DPO AP 36046', 'note': ''}\n",
      "{'fullname': 'Michelle Donovan', 'dob': '1980-05-14', 'sex': 'Male', 'height': 185, 'weight': 85, 'phone': '496.765.4993x8777', 'insur_number': 719055, 'address': '65954 Jose Ranch Suite 294, Davidborough, MD 37587', 'note': ''}\n",
      "{'fullname': 'Katherine Ali', 'dob': '1999-08-08', 'sex': 'Male', 'height': 170, 'weight': 57, 'phone': '539-393-9377', 'insur_number': 230512, 'address': 'USNV Daniel, FPO AP 82163', 'note': ''}\n",
      "{'fullname': 'Phillip Rogers', 'dob': '1993-05-02', 'sex': 'Female', 'height': 192, 'weight': 74, 'phone': '(821)413-4341', 'insur_number': 299789, 'address': '204 Acevedo Lake, East Ruth, NE 15292', 'note': ''}\n",
      "{'fullname': 'Rebecca Mcgrath', 'dob': '1953-02-01', 'sex': 'Female', 'height': 200, 'weight': 75, 'phone': '(221)647-4326x9302', 'insur_number': 810361, 'address': '272 Natasha Summit Apt. 264, Maryfurt, TX 02630', 'note': ''}\n",
      "{'fullname': 'Alex Johnson', 'dob': '1988-03-05', 'sex': 'Female', 'height': 190, 'weight': 69, 'phone': '001-766-421-4775', 'insur_number': 927860, 'address': 'USNV Stevens, FPO AP 91736', 'note': ''}\n",
      "{'fullname': 'Terrance Davis', 'dob': '1981-04-27', 'sex': 'Female', 'height': 200, 'weight': 90, 'phone': '001-900-872-6602', 'insur_number': 931728, 'address': '6322 Julia Motorway Suite 892, Whiteport, WI 94554', 'note': ''}\n",
      "{'fullname': 'Danielle Flowers', 'dob': '1964-02-15', 'sex': 'Male', 'height': 165, 'weight': 68, 'phone': '001-895-477-0062x1817', 'insur_number': 552114, 'address': '6798 David Squares Suite 330, East Jermaine, OK 68492', 'note': ''}\n",
      "{'fullname': 'Mr. Christopher Dixon', 'dob': '1984-05-08', 'sex': 'Male', 'height': 151, 'weight': 90, 'phone': '(684)701-8667', 'insur_number': 547079, 'address': '6246 David Grove Suite 191, West Danielland, PA 08356', 'note': ''}\n",
      "{'fullname': 'Lisa Williams', 'dob': '1985-03-25', 'sex': 'Male', 'height': 182, 'weight': 59, 'phone': '001-788-330-4691x886', 'insur_number': 910564, 'address': '101 Reyes Mews, East Michael, TX 34100', 'note': ''}\n",
      "{'fullname': 'Timothy Holmes', 'dob': '1962-01-22', 'sex': 'Male', 'height': 154, 'weight': 65, 'phone': '404-565-6644x74711', 'insur_number': 215920, 'address': '2861 Buck Course Apt. 487, New Roytown, CO 77593', 'note': ''}\n",
      "{'fullname': 'Rachael Merritt', 'dob': '2003-05-13', 'sex': 'Male', 'height': 195, 'weight': 85, 'phone': '+1-624-769-4900x42498', 'insur_number': 101820, 'address': '72570 Wayne Rapid, Adammouth, KS 84176', 'note': ''}\n",
      "{'fullname': 'Anthony Soto', 'dob': '1960-03-03', 'sex': 'Male', 'height': 187, 'weight': 71, 'phone': '001-358-578-4104x37092', 'insur_number': 983514, 'address': '67659 Douglas Springs Apt. 435, West Mariah, IL 49232', 'note': ''}\n",
      "{'fullname': 'Julie Hernandez', 'dob': '2003-11-30', 'sex': 'Male', 'height': 170, 'weight': 55, 'phone': '001-800-974-5819x464', 'insur_number': 251545, 'address': '2347 Davis Station Suite 873, Whitechester, NM 65202', 'note': ''}\n",
      "{'fullname': 'Patrick Scott', 'dob': '1955-09-21', 'sex': 'Male', 'height': 175, 'weight': 59, 'phone': '506.903.0681x50369', 'insur_number': 914770, 'address': '25356 Jennifer Unions Suite 596, Leahside, AS 45832', 'note': ''}\n",
      "{'fullname': 'Kevin Robinson', 'dob': '1969-09-21', 'sex': 'Male', 'height': 151, 'weight': 56, 'phone': '001-655-556-5784x2196', 'insur_number': 223259, 'address': 'Unit 6290 Box 8131, DPO AP 56304', 'note': ''}\n",
      "{'fullname': 'Jonathan Moody', 'dob': '1995-04-08', 'sex': 'Male', 'height': 165, 'weight': 57, 'phone': '966-814-4614x9554', 'insur_number': 869147, 'address': '1722 Taylor View Apt. 733, North Christina, GA 56605', 'note': ''}\n",
      "{'fullname': 'Nicholas Long', 'dob': '1988-11-23', 'sex': 'Male', 'height': 172, 'weight': 56, 'phone': '001-222-518-4676', 'insur_number': 861001, 'address': '592 Contreras Shoals Suite 397, New Jesus, WI 66369', 'note': ''}\n"
     ]
    }
   ],
   "source": [
    "from faker import Faker\n",
    "from random import randint\n",
    "\n",
    "# Create a Faker instance for Vietnam and another one for the US\n",
    "fake_vn = Faker('vi_VN')\n",
    "fake_us = Faker('en_US')\n",
    "\n",
    "# Generate fake data\n",
    "data_set = []\n",
    "for _ in range(30):  # 15 Vietnamese names\n",
    "    data = {\n",
    "        \"fullname\": fake_vn.name(),\n",
    "        \"dob\": fake_vn.date_of_birth(minimum_age=18, maximum_age=70).isoformat(),\n",
    "        \"sex\": fake_vn.random_element(elements=(\"Male\", \"Female\")),\n",
    "        \"height\": randint(150, 200),  # Random height in cm\n",
    "        \"weight\": randint(50, 100),  # Random weight in kg\n",
    "        \"phone\": fake_vn.phone_number(),\n",
    "        \"insur_number\": fake_vn.random_number(digits=6, fix_len=True),\n",
    "        \"address\": fake_vn.address().replace(\"\\n\", \", \"),\n",
    "        \"note\": \"\"  # Note is empty\n",
    "    }\n",
    "    data_set.append(data)\n",
    "\n",
    "# for _ in range(30):  # 15 US names\n",
    "#     data = {\n",
    "#         \"fullname\": fake_us.name(),\n",
    "#         \"dob\": fake_us.date_of_birth(minimum_age=18, maximum_age=70).isoformat(),\n",
    "#         \"sex\": fake_us.random_element(elements=(\"Male\", \"Female\")),\n",
    "#         \"height\": randint(160, 200),  # Random height in cm\n",
    "#         \"weight\": randint(60, 110),  # Random weight in kg\n",
    "#         \"phone\": fake_us.phone_number(),\n",
    "#         \"insur_number\": fake_us.random_number(digits=6, fix_len=True),\n",
    "#         \"address\": fake_us.address().replace(\"\\n\", \", \"),\n",
    "#         \"note\": \"\"  # Note is empty\n",
    "#     }\n",
    "#     data_set.append(data)\n",
    "\n",
    "# Print the data set\n",
    "for data in data_set:\n",
    "    print(data)\n"
   ]
  },
  {
   "cell_type": "code",
   "execution_count": 3,
   "metadata": {},
   "outputs": [
    {
     "name": "stdout",
     "output_type": "stream",
     "text": [
      "['data_ecg_phamhuynhquocthien_20231119_232824', 'data_ecg_phamhuynhquocthien_20231124_212507', 'data_ecg_phamhuynhquocthien_20231124_220725', 'data_ecg_phamhuynhquocthien_20231124_221226', 'data_ecg_phamhuynhquocthien_20231124_225438']\n"
     ]
    }
   ],
   "source": [
    "from support_function import *\n",
    "print(get_tables('Pham Huynh Quoc Thien'))"
   ]
  },
  {
   "cell_type": "code",
   "execution_count": 10,
   "metadata": {},
   "outputs": [
    {
     "ename": "SystemExit",
     "evalue": "0",
     "output_type": "error",
     "traceback": [
      "An exception has occurred, use %tb to see the full traceback.\n",
      "\u001b[1;31mSystemExit\u001b[0m\u001b[1;31m:\u001b[0m 0\n"
     ]
    },
    {
     "name": "stderr",
     "output_type": "stream",
     "text": [
      "C:\\Users\\ADMIN\\AppData\\Roaming\\Python\\Python311\\site-packages\\IPython\\core\\interactiveshell.py:3534: UserWarning: To exit: use 'exit', 'quit', or Ctrl-D.\n",
      "  warn(\"To exit: use 'exit', 'quit', or Ctrl-D.\", stacklevel=1)\n"
     ]
    }
   ],
   "source": [
    "import sys\n",
    "import os\n",
    "import pandas as pd\n",
    "import psycopg2 as ps\n",
    "from datetime import datetime\n",
    "import matplotlib.pyplot as plt\n",
    "from PyQt5.QtWidgets import QSizePolicy,QVBoxLayout\n",
    "from matplotlib.backends.backend_qt5agg import FigureCanvasQTAgg as FigureCanvas\n",
    "#Function connect to database\n",
    "def connect_to_db():\n",
    "    connectDB = ps.connect(\n",
    "        host=\"a-3.postgres.database.azure.com\",\n",
    "        dbname=\"project\",\n",
    "        user=\"Project_Health_Care_System\",\n",
    "        password=\"@healthcare2\",\n",
    "        port=5432\n",
    "    )\n",
    "    return connectDB.cursor()\n",
    "\n",
    "def get_data_from_table(table_name):\n",
    "    cursor = connect_to_db()\n",
    "    cursor.execute(f\"SELECT X, Y FROM {table_name}\")\n",
    "    data = cursor.fetchall()\n",
    "    x_values = [row[0] for row in data]\n",
    "    y_values = [row[1] for row in data]\n",
    "    return x_values, y_values\n",
    "\n",
    "import pyqtgraph as pg\n",
    "from PyQt5 import QtWidgets, QtCore\n",
    "\n",
    "class MainWindow(QtWidgets.QMainWindow):\n",
    "    def __init__(self, parent=None):\n",
    "        super(MainWindow, self).__init__(parent)\n",
    "        self.graphWidget = pg.PlotWidget()\n",
    "        self.setCentralWidget(self.graphWidget)\n",
    "\n",
    "        self.x, self.y = get_data_from_table('data_ecg_phamhuynhquocthien_20231124_225438')\n",
    "        self.data_line = self.graphWidget.plot(self.x[:500], self.y[:500], pen=pg.mkPen('r', width=2))\n",
    "\n",
    "        self.current_index = 0\n",
    "        self.graphWidget.setXRange(self.x[0], self.x[0] + 500)\n",
    "        self.graphWidget.setBackground('w')\n",
    "\n",
    "        self.timer = QtCore.QTimer()\n",
    "        self.timer.setInterval(2)  # in milliseconds\n",
    "        self.timer.timeout.connect(self.update_plot)\n",
    "        self.timer.start()\n",
    "\n",
    "    def update_plot(self):\n",
    "        self.current_index += 1\n",
    "        if self.current_index > len(self.x) - 500:\n",
    "            self.timer.stop()  # Dừng QTimer khi đến điểm cuối của dữ liệu\n",
    "            return\n",
    "        self.data_line.setData(self.x[:self.current_index+500], self.y[:self.current_index+500])\n",
    "        self.graphWidget.setXRange(self.x[self.current_index], self.x[self.current_index] + 500)\n",
    "\n",
    "def main():\n",
    "    app = QtWidgets.QApplication([])\n",
    "    main = MainWindow()\n",
    "    main.show()\n",
    "    sys.exit(app.exec_())\n",
    "\n",
    "if __name__ == '__main__':\n",
    "    main()"
   ]
  }
 ],
 "metadata": {
  "kernelspec": {
   "display_name": "Python 3",
   "language": "python",
   "name": "python3"
  },
  "language_info": {
   "codemirror_mode": {
    "name": "ipython",
    "version": 3
   },
   "file_extension": ".py",
   "mimetype": "text/x-python",
   "name": "python",
   "nbconvert_exporter": "python",
   "pygments_lexer": "ipython3",
   "version": "3.11.5"
  }
 },
 "nbformat": 4,
 "nbformat_minor": 2
}
